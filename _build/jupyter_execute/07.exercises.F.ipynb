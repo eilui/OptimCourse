{
 "cells": [
  {
   "cell_type": "markdown",
   "id": "7505839d",
   "metadata": {},
   "source": [
    "# Exercise set F\n",
    "\n",
    "Please, see the \n",
    "[**general comment on the tutorial exercises**](02.exercises.A.md)\n",
    "\n",
    "## Question F.1\n",
    "\n",
    "Consider a function $f : \\mathbb{R}^N \\ni {\\bf x} \\mapsto {\\bf x}'B{\\bf x} \\in \\mathbb{R}$, where $N \\times N$ matrix $B$ is square but not symmetric.\n",
    "Show that the same function can be represented as ${\\bf x}'A{\\bf x}$ where $A$ is symmetric.\n",
    "\n",
    "```{hint}\n",
    "Recall that the definition of a quadratic form calls for the symmetry of matrix $A$. This exercise shows that this assumption is without loss of generality.\n",
    "```\n",
    "\n",
    "```{hint}\n",
    "Given a square matrix $M$, you can use the identity $M = \\tfrac{1}{2}(M+M') + \\tfrac{1}{2}(M-M')$ where the first component is symmetric and the second is not symmetric.\n",
    "```\n",
    "\n",
    "## Question F.2\n",
    "\n",
    "Consider a quadratic form $f : \\mathbb{R}^N \\ni {\\bf x} \\mapsto {\\bf x}'A{\\bf x} \\in \\mathbb{R}$, where $N \\times N$ matrix $A$ is symmetric.\n",
    "\n",
    "Using the product rule of multivariate calculus, derive the gradient and Hessian of $f$. Make sure that all multiplied vectors and matrices are conformable.\n",
    "\n",
    "```{hint}\n",
    "You can assume that ${\\bf x}$ is a column vector, and that any vector function of ${\\bf x}$ is also a column vector.\n",
    "```\n",
    "\n",
    "## Question F.3\n",
    "\n",
    "Logit function as a composition of CCP and a scalar product of X and beta as two separate functions"
   ]
  }
 ],
 "metadata": {
  "jupytext": {
   "formats": "md:myst",
   "text_representation": {
    "extension": ".md",
    "format_name": "myst",
    "format_version": 0.13,
    "jupytext_version": "1.11.5"
   }
  },
  "kernelspec": {
   "display_name": "Python 3",
   "language": "python",
   "name": "python3"
  },
  "language_info": {
   "codemirror_mode": {
    "name": "ipython",
    "version": 3
   },
   "file_extension": ".py",
   "mimetype": "text/x-python",
   "name": "python",
   "nbconvert_exporter": "python",
   "pygments_lexer": "ipython3",
   "version": "3.11.0"
  },
  "source_map": [
   13
  ]
 },
 "nbformat": 4,
 "nbformat_minor": 5
}