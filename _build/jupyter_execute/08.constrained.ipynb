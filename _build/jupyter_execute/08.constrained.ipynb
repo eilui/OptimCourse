{
 "cells": [
  {
   "cell_type": "markdown",
   "id": "ab107976",
   "metadata": {},
   "source": [
    "# Constrained optimization\n",
    "**ECON2125/6012 Lecture 8**\n",
    "Fedor Iskhakov\n",
    "\n",
    "## Announcements & Reminders\n",
    "\n",
    "- Submit Test 3 before **October 4, 23:59**\n",
    "- The test will include the material from the last two lectures (unconstrained and constrained optimization) with some additional material on fundamentals of optimization from the lecture before (properties of optima and convexity)\n",
    "\n",
    "## Plan for this lecture\n",
    "\n",
    "1. Constrained vs unconstrained optimization\n",
    "2. Equality constrains and Lagrange method\n",
    "3. Inequality constrains and Kuhn-Tucker method\n",
    "4. Constrained optimization under convexity\n",
    "\n",
    "\n",
    "```{image} _static/img/coming_soon.png\n",
    "   :scale: 100 %\n",
    "   :alt: soming soon\n",
    "   :align: center\n",
    "```"
   ]
  }
 ],
 "metadata": {
  "jupytext": {
   "formats": "md:myst",
   "text_representation": {
    "extension": ".md",
    "format_name": "myst",
    "format_version": 0.13,
    "jupytext_version": "1.11.5"
   }
  },
  "language_info": {
   "codemirror_mode": {
    "name": "ipython",
    "version": 3
   },
   "file_extension": ".py",
   "mimetype": "text/x-python",
   "name": "python",
   "nbconvert_exporter": "python",
   "pygments_lexer": "ipython3",
   "version": "3.11.0"
  },
  "source_map": [
   9
  ]
 },
 "nbformat": 4,
 "nbformat_minor": 5
}