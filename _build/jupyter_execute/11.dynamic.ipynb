{
 "cells": [
  {
   "cell_type": "markdown",
   "id": "b2d72ffd",
   "metadata": {},
   "source": [
    "# Dynamic optimization\n",
    "**ECON2125/6012 Lecture 11**\n",
    "Fedor Iskhakov\n",
    "\n",
    "## Announcements & Reminders\n",
    "\n",
    "- None?\n",
    "## Plan for this lecture\n",
    "\n",
    "1. Dynamic decision problems\n",
    "2. Dynamic discrete choice\n",
    "3. Cake eating and consumption/savings decisions\n",
    "\n",
    "```{image} _static/img/coming_soon.png\n",
    "   :scale: 100 %\n",
    "   :alt: soming soon\n",
    "   :align: center\n",
    "```"
   ]
  }
 ],
 "metadata": {
  "jupytext": {
   "formats": "md:myst",
   "text_representation": {
    "extension": ".md",
    "format_name": "myst",
    "format_version": 0.13,
    "jupytext_version": "1.11.5"
   }
  },
  "language_info": {
   "codemirror_mode": {
    "name": "ipython",
    "version": 3
   },
   "file_extension": ".py",
   "mimetype": "text/x-python",
   "name": "python",
   "nbconvert_exporter": "python",
   "pygments_lexer": "ipython3",
   "version": "3.11.0"
  },
  "source_map": [
   9
  ]
 },
 "nbformat": 4,
 "nbformat_minor": 5
}