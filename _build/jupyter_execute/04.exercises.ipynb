{
 "cells": [
  {
   "cell_type": "markdown",
   "id": "fbfe136b",
   "metadata": {},
   "source": [
    "# Exercise set C\n",
    "\n",
    "Please, see the \n",
    "[**general comment on the tutorial exercises**](02.exercises.md)\n",
    "\n",
    "## Question C.1\n",
    "\n",
    "Limits \n",
    "\n",
    "## Question C.2\n",
    "\n",
    "Show that the Cobb-Douglas production function \n",
    "$f(k,l) = k^\\alpha l^\\beta$ from $[0,\\infty) \\times [0,\\infty)$ to $\\mathbb{R}$ is continuous everywhere in its domain.\n",
    "\n",
    "```{tip}\n",
    "You can use the fact that, for any $a \\in \\mathbb{R}$ the function $g(x) = x^a$ is continuous at any $x \\in [0,\\infty)$. This was mentioned towards the end of lecture 4. \n",
    "Also, remember that norm convergence implies element by element convergence.\n",
    "```\n",
    "\n",
    "## Question C.3\n",
    "\n",
    "Let $\\beta \\in (0,1)$. Show that the utility function $u(c_1,c_2) = \\sqrt{c_1} + \\beta \\sqrt{c_2}$ from $[0,\\infty) \\times [0,\\infty)$ to $\\mathbb{R}$ to $\\mathbb{R}$ is continuous everywhere in its domain.\n",
    "\n",
    "## Question C.4\n",
    "\n",
    "Let $A$ be the set of all consumption pairs $(c_1,c_2)$ such that $c_1 \\ge 0$, $c_2 \\ge 0$ and $p_1 c_1 + p_2 c_2 \\le M$ Here $p_1$, $p_2$ and $M$ are positive constants. Show that $A$ is a closed subset of $\\mathbb{R}^2$.\n",
    "\n",
    "```{tip}\n",
    "Weak inequalities are preserved under limits\n",
    "```\n",
    "\n",
    "## Question C.5\n",
    "\n",
    "Let ${\\bf x}, {\\bf y} \\in \\mathbb{R}^N$ and $\\| {\\bf x} \\| $ denote the Euclidean norm.  Verify the ***Parallelogram Equality*** given by\n",
    "%\n",
    "$$\n",
    "\\| {\\bf x} + {\\bf y} \\|^2 + \\| {\\bf x} - {\\bf y} \\|^2 = 2 \\big( \\| {\\bf x} \\|^2 + \\| {\\bf y} \\|^2 \\big)\n",
    "$$\n",
    "%"
   ]
  }
 ],
 "metadata": {
  "jupytext": {
   "formats": "md:myst",
   "text_representation": {
    "extension": ".md",
    "format_name": "myst",
    "format_version": 0.13,
    "jupytext_version": "1.11.5"
   }
  },
  "kernelspec": {
   "display_name": "Python 3",
   "language": "python",
   "name": "python3"
  },
  "language_info": {
   "codemirror_mode": {
    "name": "ipython",
    "version": 3
   },
   "file_extension": ".py",
   "mimetype": "text/x-python",
   "name": "python",
   "nbconvert_exporter": "python",
   "pygments_lexer": "ipython3",
   "version": "3.11.4"
  },
  "source_map": [
   13
  ]
 },
 "nbformat": 4,
 "nbformat_minor": 5
}