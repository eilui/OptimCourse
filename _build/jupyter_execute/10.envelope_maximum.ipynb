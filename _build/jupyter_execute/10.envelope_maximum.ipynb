{
 "cells": [
  {
   "cell_type": "markdown",
   "id": "2768b37c",
   "metadata": {},
   "source": [
    "# Envelope and maximum theorems\n",
    "**ECON2125/6012 Lecture 8**\n",
    "Fedor Iskhakov\n",
    "\n",
    "## Announcements & Reminders\n",
    "\n",
    "- None?\n",
    "## Plan for this lecture\n",
    "\n",
    "1. Envelope theorems\n",
    "2. Theorem of maximum\n",
    "\n",
    "## Value function and optimization problem parameters\n",
    "\n",
    "Let's start with recalling the definition of a general optimization problem\n",
    "\n",
    "```{admonition} Definition\n",
    ":class: caution\n",
    "\n",
    "The general form of the optimization problem is\n",
    "\n",
    "%\n",
    "$$\n",
    "V(\\theta) \n",
    "= \\max_{x} f(x,\\theta)\n",
    "\\\\\n",
    "\\text {subject to}\n",
    "\\\\\n",
    "g_i(x,\\theta) = 0, \\; i\\in\\{1,\\dots,I\\}\\\\\n",
    "h_j(x,\\theta) \\le 0, \\; j\\in\\{1,\\dots,J\\}\n",
    "$$\n",
    "%\n",
    "where:\n",
    "- $f(x,\\theta) \\colon \\mathbb{R}^N \\times \\mathbb{R}^K \\to \\mathbb{R}$ is an objective function\n",
    "- $x \\in \\mathbb{R}^N$ are decision/choice variables\n",
    "- $\\theta \\in \\mathbb{R}^K$ are parameters\n",
    "- $g_i(x,\\theta) = 0, \\; i\\in\\{1,\\dots,I\\}$ where $g_i \\colon \\mathbb{R}^N \\times \\mathbb{R}^K \\to \\mathbb{R}$, are equality constraints\n",
    "- $h_i(x,\\theta) \\le 0, \\; i\\in\\{1,\\dots,I\\}$ where $h_i \\colon \\mathbb{R}^N \\times \\mathbb{R}^K \\to \\mathbb{R}$, are inequality constraints\n",
    "- $V(\\theta) \\colon \\mathbb{R}^K \\to \\mathbb{R}$ is a value function\n",
    "```\n",
    "\n",
    "This lecture focuses on the *value function* in the optimization problem $V(\\theta)$, and how it depends on the parameters $\\theta$.\n",
    "\n",
    "- In economics usually used to study how the optimized behavior changes when the circumstances of the decision-making process change\n",
    "  - income/budget/wealth changes\n",
    "  - effects in the behavior change importance\n",
    "  - intertemporal effects of changes in other time periods\n",
    "\n",
    "\n",
    "### Lagrange multiplyers as shadow prices\n",
    "\n",
    "In the equality constrained optimization problem, the Lagrange multiplier $\\lambda_i$ can be interpreted as the shadow price of the constraint $g_i(x,\\theta) = 0$.\n",
    "\n",
    "\n",
    "\n",
    "```{image} _static/img/coming_soon.png\n",
    "   :scale: 100 %\n",
    "   :alt: soming soon\n",
    "   :align: center\n",
    "```"
   ]
  }
 ],
 "metadata": {
  "jupytext": {
   "formats": "md:myst",
   "text_representation": {
    "extension": ".md",
    "format_name": "myst",
    "format_version": 0.13,
    "jupytext_version": "1.11.5"
   }
  },
  "language_info": {
   "codemirror_mode": {
    "name": "ipython",
    "version": 3
   },
   "file_extension": ".py",
   "mimetype": "text/x-python",
   "name": "python",
   "nbconvert_exporter": "python",
   "pygments_lexer": "ipython3",
   "version": "3.11.0"
  },
  "source_map": [
   9
  ]
 },
 "nbformat": 4,
 "nbformat_minor": 5
}