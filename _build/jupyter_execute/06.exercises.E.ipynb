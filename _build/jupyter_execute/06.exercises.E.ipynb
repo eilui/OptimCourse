{
 "cells": [
  {
   "cell_type": "markdown",
   "id": "7ca93b9f",
   "metadata": {},
   "source": [
    "# Exercise set E\n",
    "\n",
    "Please, see the \n",
    "[**general comment on the tutorial exercises**](02.exercises.A.md)\n",
    "\n",
    "## Question E.1\n",
    "\n",
    "Show that the function $f(x) = - |x|$ from $\\mathbb{R}$ to $\\mathbb{R}$ is concave.\n",
    "\n",
    "## Question E.2\n",
    "\n",
    "Let ${\\bf A}$ be the $1 \\times 1$ matrix $(a)$. Give a necessary and\n",
    "sufficient condition on $a$ (that is, an \"if and only if\" condition on\n",
    "$a$) under which ${\\bf A}$ is nonsingular.\n",
    "\n",
    "## Question E.3\n",
    "\n",
    "Consider the function $f$ from $\\mathbb{R}$ to $\\mathbb{R}$ defined by\n",
    "%\n",
    "$$\n",
    "%\n",
    "f(x) = (c x)^2 + z\n",
    "%\n",
    "$$\n",
    "%\n",
    "Give a necessary and sufficient (if and only if) condition on $c$ under\n",
    "which $f$ has a unique minimizer.\n",
    "\n",
    "## Question E.4\n",
    "\n",
    "Let ${\\bf C}$ be an $N \\times K$ matrix, let $z \\in \\mathbb{R}$ and consider the function\n",
    "$f$ from $\\mathbb{R}^K$ to $\\mathbb{R}$ defined by\n",
    "%\n",
    "$$\n",
    "%\n",
    "f({\\bf x}) = {\\bf x}' {\\bf C}' {\\bf C} {\\bf x} + z\n",
    "%\n",
    "$$\n",
    "%\n",
    "Show that $f$ has a unique minimizer on $\\mathbb{R}^K$ if and only if ${\\bf C}$\n",
    "has linearly independent columns.\n",
    "\n",
    "```{tip}\n",
    "Obviously, you should\n",
    "draw intuition from the preceding question. Also, what does linear\n",
    "independence of the columns of ${\\bf C}$ say about the vector ${\\bf C}\n",
    "{\\bf x}$ for different choices of ${\\bf x}$?\n",
    "```\n",
    "\n",
    "## Question E.5\n",
    "\n",
    "Consider the maximization problem\n",
    "%\n",
    "$$\n",
    "%\n",
    "\\max_{c_1, c_2} ( \\sqrt c_1 + \\beta \\sqrt{c_2})\n",
    "%\n",
    "$$\n",
    "%\n",
    "subject to $c_1, c_2 \\geq 0$ and $p_1 c_1 + p_2 c_2 \\leq m$. \n",
    "Here $p_1, p_2$ and $m$ are nonnegative constants, and $\\beta \\in (0, 1)$.\n",
    "\n",
    "Show that this problem has a solution if and only if $p_1$ and $p_2$ are both\n",
    "strictly positive.\n",
    "\n",
    "## Question E.6\n",
    "\n",
    "Let $A$ be a nonempty bounded set and let $B := \\{ b \\in \\mathbb{R} \\colon b = 2a \\text{ for some } a \\in A\\}$.\n",
    "Obtain $\\sup B$ in terms of $\\sup A$. Justify your answer."
   ]
  }
 ],
 "metadata": {
  "jupytext": {
   "formats": "md:myst",
   "text_representation": {
    "extension": ".md",
    "format_name": "myst",
    "format_version": 0.13,
    "jupytext_version": "1.11.5"
   }
  },
  "kernelspec": {
   "display_name": "Python 3",
   "language": "python",
   "name": "python3"
  },
  "language_info": {
   "codemirror_mode": {
    "name": "ipython",
    "version": 3
   },
   "file_extension": ".py",
   "mimetype": "text/x-python",
   "name": "python",
   "nbconvert_exporter": "python",
   "pygments_lexer": "ipython3",
   "version": "3.11.0"
  },
  "source_map": [
   13
  ]
 },
 "nbformat": 4,
 "nbformat_minor": 5
}